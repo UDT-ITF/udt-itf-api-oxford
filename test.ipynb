{
 "cells": [
  {
   "cell_type": "code",
   "execution_count": 22,
   "metadata": {},
   "outputs": [
    {
     "name": "stdout",
     "output_type": "stream",
     "text": [
      "<Element 'zone' at 0x10b020c20>\n",
      "[{'extract': \"Et bien que mon sort touche à ses derniers soleils, / Je dirai que l'amour sied bien à vos pareils,\"}, {'extract': \"Et sachant dans quels maux mon cœur s'est abîmé, / Toi-même tu voudrais qu'il n'eût jamais aimé.\"}, {'extract': \"A mon retour d'Argos, je passai dans ces lieux, / Et ce passage offrit la Princesse à mes yeux;\"}, {'extract': \"J'y consens: / Il n'est pas généreux, mais il est de bon sens.\"}, {'extract': \"Je suis / sûre que vous allez approuver mon choix; et pour ne vous / point tenir en suspens davantage, le prince de Messène est celui / de qui le mérite s'est attiré mes vœux.\"}, {'extract': 'Les hommes la plupart sont étrangement faits! / Dans la juste nature on ne les voit jamais; / La raison a pour eux des bornes trop petites; / En chaque caractère ils passent ses limites; / Et la plus noble chose, ils la gâtent souvent / Pour la vouloir outrer et pousser trop avant.'}, {'extract': \"Qui soient plus à priser que les parfaits dévots, / Aucune chose au monde et plus noble et plus belle / Que la sainte ferveur d'un véritable zèle,\"}, {'extract': 'None'}, {'extract': \"Mais les dévots de cœur sont aisés à connaître. / Notre siècle, mon frère, en expose à nos yeux / Qui peuvent nous servir d'exemples glorieux: / Regardez Ariston, regardez Périandre, / Oronte, Alcidamas, Polydore, Clitandre; / Ce titre par aucun ne leur est débattu; / Ce ne sont point du tout fanfarons de vertu; / On ne voit point en eux ce faste insupportable, / Et leur dévotion est humaine, est traitable; / Ils ne censurent point toutes nos actions: / Ils trouvent trop d'orgueil dans ces corrections; / Et laissant la fierté des paroles aux autres, / C'est par leurs actions qu'ils reprennent les nôtres. / L'apparence du mal a chez eux peu d'appui, / Et leur âme est portée à juger bien d'autrui. / Point de cabale en eux, point d'intrigues à suivre; / On les voit, pour tous soins, se mêler de bien vivre;\"}, {'extract': \"Jamais contre un pécheur ils n'ont d'acharnement ; / Ils attachent leur haine au péché seulement / Et ne veulent point prendre, avec un zèle extrême, / Les intérêts du Ciel plus qu'il ne veut lui-même. / Voilà mes gens, voilà comme il en faut user, / Voilà l'exemple enfin qu'il se faut proposer. / Votre homme, à dire vrai, n'est pas de ce modèle: / C'est de fort bonne foi que vous vantez son zèle; / Mais par un faux éclat je vous crois ébloui.\"}, {'extract': 'None'}, {'extract': \"Fort bien :  c'est un recours où je ne songeais pas / Vous n'avez qu'à mourir pour sortir d'embarras ; / Le remède sans doute est merveilleux. J'enrage / Lorsque j'entends tenir ces sortes de langage.\"}, {'extract': \"Remettez-vous, Monsieur, d'une alarme si chaude. / Nous vivons sous un prince ennemi de la fraude, / Un prince dont les yeux se font jour dans les cœurs, / Et que ne peut tromper tout l'art des imposteurs / D'un fin discernement sa grande âme pourvue / Sur les choses toujours jette une droite vue ; / Chez elle jamais rien ne surprend trop d'accès, / Et sa ferme raison ne tombe en nul excès. / Il donne aux gens de bien une gloire immortelle ; / Mais sans aveuglement il fait briller ce zèle, / Et l'amour pour les vrais ne ferme point son cœur / A tout ce que les faux doivent donner d'horreur.\"}, {'extract': \"Celui-ci n'était pas pour le pouvoir surprendre. /\\n                        Et de pièges plus fins on le voit se défendre. /\\n                        D'abord il a percé, par ses vives clartés. /\\n                        Des replis de son cœur toutes les lâchetés,  /\\n                        Venant vous accuser, il s'est trahi lui-même, /\\n                        Et par un juste trait de l'équité suprême,  /\\n                        S'est découvert au Prince un fourbe renommé. /\\n                        Dont sous un autre nom il était informé ; /\\n                        Et c'est un long détail d'actions toutes noires / Dont on pourrait former des volumes d'histoires. /\\n                        Ce monarque, en un mot, à vers vous détesté  /\\n                        Sa lâche ingratitude et sa déloyauté ; /\\n                        A ses autres horreurs il a joint cette suite, /\\n                        Et ne m'a jusqu'ici soumis à sa conduite  /\\n                        Que pour voir l'impudence aller jusques au bout, / Et vous faire par lui faire raison de tout. /\\n                        Oui, de tous vos papiers, dont il se dit le maître. /\\n                        Il veut qu'entre vos mains je dépouille le traître. /\\n                        D'un souverain pouvoir, il brise les liens /\\n                        Du contrat qui lui fait un don de tous vos biens, / Et vous pardonne enfin cette offense secrète  /\\n                        Où vous a d'un ami fait tomber la retraite ;  /\\n                        Et c'est le prix qu'il donne au zèle qu'autrefois / On vous vit témoigner en appuyant ses droits,  /\\n                        Pour montrer que son cœur sait, quand moins on y pense, /\\n                        D'une bonne action verser la récompense,  /\\n                        Que jamais le mérite avec lui ne perd rien, / Et que mieux que du mal il se souvient du bien.\"}]\n"
     ]
    }
   ],
   "source": [
    "import xml.etree.ElementTree as ET\n",
    "\n",
    "\n",
    "xml_file = 'data/MOL-THE-2.xml'\n",
    "\n",
    "# Parse XML file\n",
    "tree = ET.parse(xml_file)\n",
    "root = tree.getroot()\n",
    "# Extract <Extracts> elements\n",
    "extracts = []\n",
    "# Find the module with attribute type=\"readtraces\"\n",
    "readtraces_module = root.find('.//module[@type=\"readtraces\"]')\n",
    "\n",
    "if readtraces_module is not None:\n",
    "    # Extract <Extracts> elements from the found module\n",
    "    for page in readtraces_module.findall('.//page'):\n",
    "        for zone in page.findall('.//zone'):\n",
    "            extract_element = zone.find('.//rn/Extracts')\n",
    "            #print(extract_element.text)\n",
    "            if extract_element is not None:\n",
    "                extracts.append({\"extract\": str(extract_element.text).strip()})\n",
    "\n",
    "\n",
    "print(extracts)"
   ]
  },
  {
   "cell_type": "code",
   "execution_count": null,
   "metadata": {},
   "outputs": [],
   "source": []
  }
 ],
 "metadata": {
  "kernelspec": {
   "display_name": "Python 3.11.1 64-bit",
   "language": "python",
   "name": "python3"
  },
  "language_info": {
   "codemirror_mode": {
    "name": "ipython",
    "version": 3
   },
   "file_extension": ".py",
   "mimetype": "text/x-python",
   "name": "python",
   "nbconvert_exporter": "python",
   "pygments_lexer": "ipython3",
   "version": "3.11.1"
  },
  "orig_nbformat": 4,
  "vscode": {
   "interpreter": {
    "hash": "aee8b7b246df8f9039afb4144a1f6fd8d2ca17a180786b69acc140d282b71a49"
   }
  }
 },
 "nbformat": 4,
 "nbformat_minor": 2
}
